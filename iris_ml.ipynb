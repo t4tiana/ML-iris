{
 "cells": [
  {
   "cell_type": "code",
   "execution_count": 2,
   "id": "c3dede82-cadf-42a2-ae9d-d0f482f191e7",
   "metadata": {},
   "outputs": [],
   "source": [
    "from sklearn.datasets import load_iris\n",
    "iris = load_iris()"
   ]
  },
  {
   "cell_type": "code",
   "execution_count": 3,
   "id": "07b6f957-d39f-4a91-a827-1d8eb596752c",
   "metadata": {},
   "outputs": [],
   "source": [
    "X = iris.data\n",
    "y = iris.target\n",
    "\n",
    "feature_names = iris.feature_names\n",
    "target_names = iris.target_names\n",
    "\n",
    "#supervised learning. split into training set and test set"
   ]
  },
  {
   "cell_type": "code",
   "execution_count": 16,
   "id": "95a50ed1-9b98-4206-ae9b-1d0540a934a0",
   "metadata": {},
   "outputs": [
    {
     "name": "stdout",
     "output_type": "stream",
     "text": [
      "(105, 4)\n",
      "(45, 4)\n"
     ]
    }
   ],
   "source": [
    "from sklearn.model_selection import train_test_split\n",
    "# test_size means 25% of available data will be used for testing while 75% will be used for training\n",
    "X_train, X_test, y_train, y_test = train_test_split(X, y, test_size=0.3)\n",
    "\n",
    "print(X_train.shape)\n",
    "print(X_test.shape)"
   ]
  },
  {
   "cell_type": "code",
   "execution_count": 17,
   "id": "c4ca7a0f-2575-40d5-9a49-f12609f736ca",
   "metadata": {},
   "outputs": [],
   "source": [
    "from sklearn.neighbors import KNeighborsClassifier\n",
    "\n",
    "knn = KNeighborsClassifier(n_neighbors = 4)\n",
    "knn.fit(X_train, y_train)\n",
    "y_predictions = knn.predict(X_test)"
   ]
  },
  {
   "cell_type": "code",
   "execution_count": 18,
   "id": "096285bd-7d0c-42aa-8584-ae407ec6bd16",
   "metadata": {},
   "outputs": [
    {
     "name": "stdout",
     "output_type": "stream",
     "text": [
      "0.9555555555555556\n"
     ]
    }
   ],
   "source": [
    "from sklearn import metrics\n",
    "print(metrics.accuracy_score(y_test, y_predictions))"
   ]
  },
  {
   "cell_type": "code",
   "execution_count": 20,
   "id": "e8663484-38de-4953-8a82-bab344256da6",
   "metadata": {},
   "outputs": [
    {
     "name": "stdout",
     "output_type": "stream",
     "text": [
      "0.9333333333333333\n"
     ]
    }
   ],
   "source": [
    "from sklearn.tree import DecisionTreeClassifier\n",
    "\n",
    "dt = DecisionTreeClassifier()\n",
    "dt.fit(X_train, y_train)\n",
    "y_pred2 = dt.predict(X_test)\n",
    "\n",
    "print(metrics.accuracy_score(y_test, y_pred2))"
   ]
  },
  {
   "cell_type": "code",
   "execution_count": 9,
   "id": "bee8a084-1f06-4bb7-ae3b-cb10184002b2",
   "metadata": {},
   "outputs": [
    {
     "name": "stdout",
     "output_type": "stream",
     "text": [
      "Predictions:  ['versicolor', 'versicolor']\n"
     ]
    }
   ],
   "source": [
    "#What if one was given two more data points and wanted this model to guess what kinds of iris they were?\n",
    "#Two arrays in 'sample' contain random values for the 4 parameters on which the flowers are evaluated\n",
    "sample = [[3,5,4,2], [2,4,5,4]]\n",
    "predictions = knn.predict(sample)\n",
    "#Create a list showing the names of what the flowers are predicted to be using target_names from original dataset\n",
    "pred_species = [iris.target_names[p] for p in predictions]\n",
    "print(\"Predictions: \", pred_species)\n",
    "#NOTE: Cannot be sure that the predictions are right.\n",
    "#Ideally, a human would have labeled them so we could check against that."
   ]
  },
  {
   "cell_type": "code",
   "execution_count": 10,
   "id": "0c7c1243-eeb8-48f4-909e-20ff5bf1e4f0",
   "metadata": {},
   "outputs": [
    {
     "data": {
      "text/plain": [
       "['mlbrain.joblib']"
      ]
     },
     "execution_count": 10,
     "metadata": {},
     "output_type": "execute_result"
    }
   ],
   "source": [
    "#Saving model so one doesn't have to run training every time its used, saving compute\n",
    "from joblib import dump, load\n",
    "dump(knn, 'mlbrain.joblib')"
   ]
  },
  {
   "cell_type": "code",
   "execution_count": 11,
   "id": "5f221f2b-26e7-4fa5-9ee0-3b3d1dcc9580",
   "metadata": {},
   "outputs": [
    {
     "data": {
      "text/plain": [
       "array([0, 2, 1, 1, 1, 2, 1, 1, 2, 1, 2, 2, 1, 0, 0, 2, 2, 0, 0, 1, 0, 1,\n",
       "       1, 2, 1, 0, 2, 1, 0, 2, 0, 0, 0, 0, 0, 0, 1, 1, 1, 2, 0])"
      ]
     },
     "execution_count": 11,
     "metadata": {},
     "output_type": "execute_result"
    }
   ],
   "source": [
    "# If someone wants to use my model, they will load it this way and then use 'predict' method\n",
    "model = load('mlbrain.joblib')\n",
    "model.predict(X_test)"
   ]
  },
  {
   "cell_type": "code",
   "execution_count": null,
   "id": "b5e69b74-27fe-47aa-974b-5e0a727ac0b6",
   "metadata": {},
   "outputs": [],
   "source": []
  }
 ],
 "metadata": {
  "kernelspec": {
   "display_name": "Python 3 (ipykernel)",
   "language": "python",
   "name": "python3"
  },
  "language_info": {
   "codemirror_mode": {
    "name": "ipython",
    "version": 3
   },
   "file_extension": ".py",
   "mimetype": "text/x-python",
   "name": "python",
   "nbconvert_exporter": "python",
   "pygments_lexer": "ipython3",
   "version": "3.10.9"
  }
 },
 "nbformat": 4,
 "nbformat_minor": 5
}
